{
 "cells": [
  {
   "cell_type": "code",
   "execution_count": 2,
   "id": "09097abd-ebee-4012-9692-451a5c703950",
   "metadata": {},
   "outputs": [],
   "source": [
    "import pandas as pd\n",
    "import numpy as np\n",
    "from sklearn.model_selection import train_test_split\n",
    "from sklearn.linear_model import LinearRegression\n",
    "\n",
    "# Load the data\n",
    "data = pd.read_csv('sample.csv')\n",
    "\n",
    "# Convert 'Transaction Date' to datetime\n",
    "data['Transaction Date'] = pd.to_datetime(data['Transaction Date'])\n",
    "\n",
    "# Feature Engineering\n",
    "data['Month'] = data['Transaction Date'].dt.month\n",
    "data['Year'] = data['Transaction Date'].dt.year\n",
    "\n",
    "# Group by Product ID, Product Name, Category, and Date to get monthly sales\n",
    "monthly_sales = data.groupby(['Product ID', 'Product Name', 'Category', 'Year', 'Month']).agg({\n",
    "    'Total Amount': 'sum'\n",
    "}).reset_index()\n",
    "\n",
    "# Prepare features and target\n",
    "X = monthly_sales[['Year', 'Month']]\n",
    "y = monthly_sales['Total Amount']\n",
    "\n",
    "# Train-Test Split\n",
    "X_train, X_test, y_train, y_test = train_test_split(X, y, test_size=0.2, random_state=42)\n",
    "\n",
    "# Model\n",
    "model = LinearRegression()\n",
    "model.fit(X_train, y_train)\n",
    "\n",
    "# Predict\n",
    "monthly_sales['Predicted Sales'] = model.predict(X[['Year', 'Month']])\n",
    "\n",
    "# Save to CSV\n",
    "monthly_sales.to_csv('predicted_sales.csv', index=False)\n"
   ]
  },
  {
   "cell_type": "code",
   "execution_count": null,
   "id": "2f4d8723-2133-4fca-a14c-d5df416078ba",
   "metadata": {},
   "outputs": [],
   "source": []
  }
 ],
 "metadata": {
  "kernelspec": {
   "display_name": "Python 3 (ipykernel)",
   "language": "python",
   "name": "python3"
  },
  "language_info": {
   "codemirror_mode": {
    "name": "ipython",
    "version": 3
   },
   "file_extension": ".py",
   "mimetype": "text/x-python",
   "name": "python",
   "nbconvert_exporter": "python",
   "pygments_lexer": "ipython3",
   "version": "3.12.4"
  }
 },
 "nbformat": 4,
 "nbformat_minor": 5
}
